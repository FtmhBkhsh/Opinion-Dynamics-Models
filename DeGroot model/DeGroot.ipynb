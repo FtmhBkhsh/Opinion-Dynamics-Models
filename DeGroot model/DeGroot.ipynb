{
 "cells": [
  {
   "cell_type": "code",
   "execution_count": 34,
   "metadata": {},
   "outputs": [
    {
     "name": "stdout",
     "output_type": "stream",
     "text": [
      "Enter number of nodes in you network: 3\n",
      "the graph is ergodic\n"
     ]
    },
    {
     "data": {
      "image/png": "[encoded data removed]",
      "text/plain": [
       "<Figure size 432x288 with 1 Axes>"
      ]
     },
     "metadata": {},
     "output_type": "display_data"
    },
    {
     "name": "stdout",
     "output_type": "stream",
     "text": [
      "\n",
      "Select a node in this network: 1\n"
     ]
    },
    {
     "data": {
      "image/png": "[encoded data removed]",
      "text/plain": [
       "<Figure size 432x288 with 1 Axes>"
      ]
     },
     "metadata": {},
     "output_type": "display_data"
    },
    {
     "name": "stdout",
     "output_type": "stream",
     "text": [
      "ITERATION: 1\n",
      "MAX: 0.5 MIN: 0.0\n",
      "ITERATION: 2\n",
      "MAX: 0.5 MIN: 0.25\n",
      "ITERATION: 3\n",
      "MAX: 0.375 MIN: 0.25\n",
      "ITERATION: 4\n",
      "MAX: 0.375 MIN: 0.3125\n",
      "ITERATION: 5\n",
      "MAX: 0.34375 MIN: 0.3125\n",
      "ITERATION: 6\n",
      "MAX: 0.34375 MIN: 0.328125\n",
      "ITERATION: 7\n",
      "MAX: 0.3359375 MIN: 0.328125\n",
      "ITERATION: 8\n",
      "MAX: 0.3359375 MIN: 0.33203125\n",
      "ITERATION: 9\n",
      "MAX: 0.333984375 MIN: 0.33203125\n",
      "ITERATION: 10\n",
      "MAX: 0.333984375 MIN: 0.3330078125\n",
      "ITERATION: 11\n",
      "MAX: 0.33349609375 MIN: 0.3330078125\n",
      "ITERATION: 12\n",
      "MAX: 0.33349609375 MIN: 0.333251953125\n",
      "ITERATION: 13\n",
      "MAX: 0.3333740234375 MIN: 0.333251953125\n",
      "ITERATION: 14\n",
      "MAX: 0.3333740234375 MIN: 0.33331298828125\n",
      "Final value of nodes :  0.3333740234375\n",
      "\n",
      "Do you want to try another node in this network? press n if your answer is no : n\n"
     ]
    }
   ],
   "source": [
    "import networkx as nx\n",
    "import matplotlib.pyplot as plt\n",
    "import numpy\n",
    "import random\n",
    "\n",
    "cont_inue=True\n",
    "#construct_a_barabasi_albert_graph_graph\n",
    "Orginal_G=Graph_Construction()\n",
    "while cont_inue:\n",
    "    #Select_a_node_in_constructed_graph_that_has_1_value\n",
    "    Orginal_G,num_of_selected_node=Select_a_node(Orginal_G)\n",
    "    #run_opinion_dynamic\n",
    "    consensus_result = Consus_Dynamics(Orginal_G,num_of_selected_node)\n",
    "    print(\"Final value of nodes : \",consensus_result)\n",
    "    y_or_n=input(\"\\nDo you want to try another node in this network? press n if your answer is no : \")\n",
    "    if y_or_n==\"n\":\n",
    "        cont_inue=False"
   ]
  },
  {
   "cell_type": "markdown",
   "metadata": {},
   "source": [
    "### \"Consus_Dynamics\" function is responsible for updating the nodes states:"
   ]
  },
  {
   "cell_type": "code",
   "execution_count": 21,
   "metadata": {},
   "outputs": [],
   "source": [
    " def Consus_Dynamics(Orginal_G,random_num):\n",
    "    new_state=dict()\n",
    "    state=dict()\n",
    "    cntn=True\n",
    "    iteration=0\n",
    "    new_state.clear()\n",
    "    state.clear()  \n",
    "     \n",
    "        \n",
    "        \n",
    "    for node in Orginal_G:\n",
    "        state[node]=0\n",
    "        new_state[node] = 0\n",
    "    state[num_of_selected_node]=1\n",
    "\n",
    "    \n",
    "    while cntn:\n",
    "        for (b,a) in Orginal_G.edges(): \n",
    "                new_state[b] = (state[a]*Orginal_G[b][a]['weight'])+ new_state[b] \n",
    "                #print(\"a,b,state a, weight,sm\",a,b,state[b],Orginal_G[b][a]['weight'],sm)\n",
    "                #print(new_state)    \n",
    "        state =  new_state.copy()\n",
    "        for node in Orginal_G:\n",
    "            new_state[node] = 0\n",
    "        ma=max(state.values())\n",
    "        mi=min(state.values())\n",
    "        iteration=iteration+1\n",
    "        print(\"ITERATION:\",iteration)\n",
    "        print(\"MAX:\",ma,\"MIN:\",mi)\n",
    "        if ma <=  mi+0.0001 :\n",
    "               cntn=False           \n",
    "    return max(state.values())"
   ]
  },
  {
   "cell_type": "markdown",
   "metadata": {},
   "source": [
    "### \"Graph_Construction\" function is responsible for making a ergodic graph:"
   ]
  },
  {
   "cell_type": "code",
   "execution_count": 33,
   "metadata": {},
   "outputs": [],
   "source": [
    "def Graph_Construction():\n",
    "    num_of_nodes=int(input(\"Enter number of nodes in you network: \"))\n",
    "    G=nx.scale_free_graph(num_of_nodes-1)\n",
    "    Orginal_G=nx.DiGraph(G)\n",
    "    Orginal_G.add_node(num_of_nodes-1)\n",
    "    for node in Orginal_G:\n",
    "        Orginal_G.add_edge(node,num_of_nodes-1)\n",
    "        Orginal_G.add_edge(num_of_nodes-1,node)\n",
    "    Orginal_G.remove_edge(num_of_nodes-1,num_of_nodes-1) \n",
    "    out_edges=1\n",
    "    for node in Orginal_G:\n",
    "            out_edges=len(Orginal_G.out_edges(node))\n",
    "            for v in Orginal_G.neighbors(node):\n",
    "                Orginal_G[node][v]['weight'] = 1/out_edges\n",
    "    \n",
    "    node_color=dict()\n",
    "    node_color = dict.fromkeys((range(num_of_nodes)))\n",
    "    node_color = node_color.fromkeys(node_color, 0.9)\n",
    "    Is_ergodic(Orginal_G)\n",
    "    Show_network(Orginal_G,node_color)\n",
    "    return Orginal_G"
   ]
  },
  {
   "cell_type": "markdown",
   "metadata": {},
   "source": [
    "### \"Show_network\" function is responsible for showing the graph:"
   ]
  },
  {
   "cell_type": "code",
   "execution_count": 7,
   "metadata": {},
   "outputs": [],
   "source": [
    "def Show_network(Orginal_G,node_color):\n",
    "    pos = nx.spring_layout(Orginal_G)\n",
    "    labels = nx.get_edge_attributes(Orginal_G,'weight')\n",
    "    nx.draw_networkx_nodes(Orginal_G, pos,node_color=list(node_color.values()),node_size=800)\n",
    "    nx.draw_networkx_labels(Orginal_G, pos)    \n",
    "    nx.draw_networkx_edge_labels(Orginal_G,pos,edge_labels=labels, arrows=True)\n",
    "    nx.draw_networkx_edges(Orginal_G, pos,edge_color='black', arrows=True,arrowstyle = '-|>', width=3, arrowsize=10)\n",
    "    plt.show()"
   ]
  },
  {
   "cell_type": "markdown",
   "metadata": {},
   "source": [
    "### \"Select_a_node\" function is responsible for assaigning the color of nodes in the graph:"
   ]
  },
  {
   "cell_type": "code",
   "execution_count": 8,
   "metadata": {},
   "outputs": [],
   "source": [
    "def Select_a_node(Orginal_G):\n",
    "    node_color=dict()\n",
    "    num_of_selected_node=int(input(\"\\nSelect a node in this network: \"))\n",
    "    for node in Orginal_G:\n",
    "        node_color[node]=0.2\n",
    "    node_color[num_of_selected_node]=0.8\n",
    "    Show_network(Orginal_G,node_color)\n",
    "    return Orginal_G,num_of_selected_node"
   ]
  },
  {
   "cell_type": "markdown",
   "metadata": {},
   "source": [
    "### \"Is_ergodic\" function check that a graph is ergodic or not :"
   ]
  },
  {
   "cell_type": "code",
   "execution_count": 32,
   "metadata": {},
   "outputs": [],
   "source": [
    "def Is_ergodic(Orginal_G):\n",
    "        if (nx.is_aperiodic(Orginal_G) and nx.is_strongly_connected(Orginal_G)):\n",
    "             print(\"the graph is ergodic\")\n",
    "        else:\n",
    "            cont_inue=False\n",
    "            print(\"the graph is not ergodic\")"
   ]
  },
  {
   "cell_type": "markdown",
   "metadata": {},
   "source": [
    "### Convergence of beliefs example at https://en.wikipedia.org/wiki/DeGroot_learning#Consensus"
   ]
  },
  {
   "cell_type": "code",
   "execution_count": 36,
   "metadata": {},
   "outputs": [
    {
     "name": "stdout",
     "output_type": "stream",
     "text": [
      "\n",
      "Select a node in this network: 1\n"
     ]
    },
    {
     "data": {
      "image/png": "[encoded data removed]",
      "text/plain": [
       "<Figure size 432x288 with 1 Axes>"
      ]
     },
     "metadata": {},
     "output_type": "display_data"
    },
    {
     "name": "stdout",
     "output_type": "stream",
     "text": [
      "ITERATION: 1\n",
      "MAX: 1 MIN: 0.0\n",
      "ITERATION: 2\n",
      "MAX: 1 MIN: 0.0\n",
      "ITERATION: 3\n",
      "MAX: 0.5 MIN: 0.0\n",
      "ITERATION: 4\n",
      "MAX: 0.5 MIN: 0.25\n",
      "ITERATION: 5\n",
      "MAX: 0.5 MIN: 0.25\n",
      "ITERATION: 6\n",
      "MAX: 0.5 MIN: 0.25\n",
      "ITERATION: 7\n",
      "MAX: 0.5 MIN: 0.375\n",
      "ITERATION: 8\n",
      "MAX: 0.4375 MIN: 0.375\n",
      "ITERATION: 9\n",
      "MAX: 0.4375 MIN: 0.375\n",
      "ITERATION: 10\n",
      "MAX: 0.4375 MIN: 0.375\n",
      "ITERATION: 11\n",
      "MAX: 0.40625 MIN: 0.375\n",
      "ITERATION: 12\n",
      "MAX: 0.40625 MIN: 0.390625\n",
      "ITERATION: 13\n",
      "MAX: 0.40625 MIN: 0.390625\n",
      "ITERATION: 14\n",
      "MAX: 0.40625 MIN: 0.390625\n",
      "ITERATION: 15\n",
      "MAX: 0.40625 MIN: 0.3984375\n",
      "ITERATION: 16\n",
      "MAX: 0.40234375 MIN: 0.3984375\n",
      "ITERATION: 17\n",
      "MAX: 0.40234375 MIN: 0.3984375\n",
      "ITERATION: 18\n",
      "MAX: 0.40234375 MIN: 0.3984375\n",
      "ITERATION: 19\n",
      "MAX: 0.400390625 MIN: 0.3984375\n",
      "ITERATION: 20\n",
      "MAX: 0.400390625 MIN: 0.3994140625\n",
      "ITERATION: 21\n",
      "MAX: 0.400390625 MIN: 0.3994140625\n",
      "ITERATION: 22\n",
      "MAX: 0.400390625 MIN: 0.3994140625\n",
      "ITERATION: 23\n",
      "MAX: 0.400390625 MIN: 0.39990234375\n",
      "ITERATION: 24\n",
      "MAX: 0.400146484375 MIN: 0.39990234375\n",
      "ITERATION: 25\n",
      "MAX: 0.400146484375 MIN: 0.39990234375\n",
      "ITERATION: 26\n",
      "MAX: 0.400146484375 MIN: 0.39990234375\n",
      "ITERATION: 27\n",
      "MAX: 0.4000244140625 MIN: 0.39990234375\n",
      "ITERATION: 28\n",
      "MAX: 0.4000244140625 MIN: 0.39996337890625\n"
     ]
    }
   ],
   "source": [
    "Gi=nx.DiGraph()\n",
    "Gi.add_node(1)\n",
    "Gi.add_node(2)\n",
    "Gi.add_node(3)\n",
    "Gi.add_edge(1,2)\n",
    "Gi[1][2]['weight'] = 0.5\n",
    "Gi.add_edge(2,1)\n",
    "Gi[2][1]['weight'] = 1\n",
    "Gi.add_edge(1,3)\n",
    "Gi[1][3]['weight'] = 0.5\n",
    "Gi.add_edge(3,2)\n",
    "Gi[3][2]['weight'] = 1\n",
    "Orginal_Gi,num_of_selected_node=Select_a_node(Gi)\n",
    "consensus_result = Consus_Dynamics(Orginal_Gi,num_of_selected_node)\n"
   ]
  }
 ],
 "metadata": {
  "kernelspec": {
   "display_name": "Python 3",
   "language": "python",
   "name": "python3"
  },
  "language_info": {
   "codemirror_mode": {
    "name": "ipython",
    "version": 3
   },
   "file_extension": ".py",
   "mimetype": "text/x-python",
   "name": "python",
   "nbconvert_exporter": "python",
   "pygments_lexer": "ipython3",
   "version": "3.7.6"
  }
 },
 "nbformat": 4,
 "nbformat_minor": 4
}
